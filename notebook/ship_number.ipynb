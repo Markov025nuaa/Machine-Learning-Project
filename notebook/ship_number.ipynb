{
 "cells": [
  {
   "cell_type": "code",
   "execution_count": 1,
   "metadata": {
    "collapsed": true
   },
   "outputs": [],
   "source": [
    "import os\n",
    "import pandas as pd\n",
    "import matplotlib.pyplot as plt"
   ]
  },
  {
   "cell_type": "code",
   "execution_count": 5,
   "metadata": {},
   "outputs": [
    {
     "name": "stdout",
     "output_type": "stream",
     "text": [
      "\n",
      "Images for submission: 15606\n"
     ]
    },
    {
     "data": {
      "text/html": [
       "<div>\n",
       "<style>\n",
       "    .dataframe thead tr:only-child th {\n",
       "        text-align: right;\n",
       "    }\n",
       "\n",
       "    .dataframe thead th {\n",
       "        text-align: left;\n",
       "    }\n",
       "\n",
       "    .dataframe tbody tr th {\n",
       "        vertical-align: top;\n",
       "    }\n",
       "</style>\n",
       "<table border=\"1\" class=\"dataframe\">\n",
       "  <thead>\n",
       "    <tr style=\"text-align: right;\">\n",
       "      <th></th>\n",
       "      <th>ImageId</th>\n",
       "      <th>EncodedPixels</th>\n",
       "    </tr>\n",
       "  </thead>\n",
       "  <tbody>\n",
       "    <tr>\n",
       "      <th>0</th>\n",
       "      <td>00003e153.jpg</td>\n",
       "      <td>NaN</td>\n",
       "    </tr>\n",
       "    <tr>\n",
       "      <th>1</th>\n",
       "      <td>0001124c7.jpg</td>\n",
       "      <td>NaN</td>\n",
       "    </tr>\n",
       "    <tr>\n",
       "      <th>2</th>\n",
       "      <td>000155de5.jpg</td>\n",
       "      <td>264661 17 265429 33 266197 33 266965 33 267733...</td>\n",
       "    </tr>\n",
       "    <tr>\n",
       "      <th>3</th>\n",
       "      <td>000194a2d.jpg</td>\n",
       "      <td>360486 1 361252 4 362019 5 362785 8 363552 10 ...</td>\n",
       "    </tr>\n",
       "    <tr>\n",
       "      <th>4</th>\n",
       "      <td>000194a2d.jpg</td>\n",
       "      <td>51834 9 52602 9 53370 9 54138 9 54906 9 55674 ...</td>\n",
       "    </tr>\n",
       "  </tbody>\n",
       "</table>\n",
       "</div>"
      ],
      "text/plain": [
       "         ImageId                                      EncodedPixels\n",
       "0  00003e153.jpg                                                NaN\n",
       "1  0001124c7.jpg                                                NaN\n",
       "2  000155de5.jpg  264661 17 265429 33 266197 33 266965 33 267733...\n",
       "3  000194a2d.jpg  360486 1 361252 4 362019 5 362785 8 363552 10 ...\n",
       "4  000194a2d.jpg  51834 9 52602 9 53370 9 54138 9 54906 9 55674 ..."
      ]
     },
     "execution_count": 5,
     "metadata": {},
     "output_type": "execute_result"
    }
   ],
   "source": [
    "n_submit_images = pd.read_csv(\"../Proj/sample_submission_v2.csv\").shape[0]\n",
    "print(f\"Images for submission: {n_submit_images}\")\n",
    "\n",
    "pd.read_csv(f\"../Proj/train_ship_segmentations_v2.csv\").head()"
   ]
  },
  {
   "cell_type": "code",
   "execution_count": 20,
   "metadata": {
    "collapsed": true
   },
   "outputs": [],
   "source": [
    "def load_df(file=\"train\"):\n",
    "    \"\"\"\n",
    "    Loads a csv, creates the fields `HasShip` and `TotalShips` dropping `EncodedPixels` and setting `ImageId` as index.\n",
    "    \"\"\"\n",
    "    df = pd.read_csv(f\"../Proj/{file}_ship_segmentations_v2.csv\")\n",
    "    df['HasShip'] = df['EncodedPixels'].notnull()\n",
    "    df = df.groupby(\"ImageId\").agg({'HasShip': ['first', 'sum']}) # counts amount of ships per image, sets ImageId to index\n",
    "    df.columns = ['HasShip', 'TotalShips']\n",
    "    return df\n",
    "\n",
    "def show_df(df):\n",
    "    \"\"\"\n",
    "    Prints and displays the ship/no-ship ratio and the ship count distribution of df\n",
    "    \"\"\"\n",
    "    total = len(df)\n",
    "    ship = df['HasShip'].sum()\n",
    "    no_ship = total - ship\n",
    "    total_ships = int(df['TotalShips'].sum())\n",
    "        \n",
    "    print(f\"Images: {total} \\nShips:  {total_ships}\")\n",
    "    print(f\"Images with ships:    {round(ship/total,2)} ({ship})\")\n",
    "    print(f\"Images with no ships: {round(no_ship/total,2)} ({no_ship})\")\n",
    "    \n",
    "    _, axes = plt.subplots(nrows=1, ncols=2, figsize=(30, 8), gridspec_kw = {'width_ratios':[1, 3]})\n",
    "    \n",
    "    # Plot ship/no-ship with a bar plot\n",
    "    ship_ratio = df['HasShip'].value_counts() / total\n",
    "    ship_ratio = ship_ratio.rename(index={True: 'Ship', False: 'No Ship'})\n",
    "    ship_ratio.plot.bar(ax=axes[0], color=['red', 'lime'], rot=0, title=\"Ship/No-ship distribution\");\n",
    "    \n",
    "    # Plot TotalShips distribution with a bar plot\n",
    "    total_ships_distribution = df.loc[df['HasShip'], 'TotalShips'].value_counts().sort_index() / ship\n",
    "    total_ships_distribution.plot(kind='bar', ax=axes[1], rot=0, title=\"Total ships distribution\")\n",
    "    plt.show()"
   ]
  },
  {
   "cell_type": "code",
   "execution_count": 22,
   "metadata": {
    "scrolled": false
   },
   "outputs": [
    {
     "name": "stdout",
     "output_type": "stream",
     "text": [
      "Images: 192556 \n",
      "Ships:  81723\n",
      "Images with ships:    0.22 (42556)\n",
      "Images with no ships: 0.78 (150000)\n"
     ]
    },
    {
     "data": {
      "image/png": "[encoded data removed]",
      "text/plain": [
       "<matplotlib.figure.Figure at 0x11596ca90>"
      ]
     },
     "metadata": {},
     "output_type": "display_data"
    }
   ],
   "source": [
    "df_train = load_df(\"train\")\n",
    "show_df(df_train)"
   ]
  },
  {
   "cell_type": "code",
   "execution_count": null,
   "metadata": {},
   "outputs": [],
   "source": [
    "# ref: https://www.kaggle.com/julian3833/3-basic-exploratory-analysis"
   ]
  },
  {
   "cell_type": "code",
   "execution_count": null,
   "metadata": {
    "collapsed": true
   },
   "outputs": [],
   "source": []
  }
 ],
 "metadata": {
  "kernelspec": {
   "display_name": "Python 3",
   "language": "python",
   "name": "python3"
  },
  "language_info": {
   "codemirror_mode": {
    "name": "ipython",
    "version": 3
   },
   "file_extension": ".py",
   "mimetype": "text/x-python",
   "name": "python",
   "nbconvert_exporter": "python",
   "pygments_lexer": "ipython3",
   "version": "3.6.1"
  }
 },
 "nbformat": 4,
 "nbformat_minor": 2
}
